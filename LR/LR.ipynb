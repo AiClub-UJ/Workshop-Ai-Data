{
 "cells": [
  {
   "cell_type": "code",
   "execution_count": null,
   "id": "74e1b6a7",
   "metadata": {},
   "outputs": [],
   "source": [
    "import warnings\n",
    "warnings.filterwarnings(\"ignore\")\n",
    "import numpy as np\n",
    "import matplotlib.pyplot as plt\n",
    "import pandas as pd\n",
    "import seaborn as sns\n",
    "\n",
    "from sklearn.model_selection import train_test_split\n",
    "from sklearn.preprocessing import StandardScaler\n",
    "from sklearn.linear_model import LogisticRegression\n",
    "from sklearn.metrics import accuracy_score, classification_report, confusion_matrix\n",
    "\n"
   ]
  },
  {
   "cell_type": "markdown",
   "id": "2184c1ed",
   "metadata": {},
   "source": [
    "# Load the dataset\n"
   ]
  },
  {
   "cell_type": "code",
   "execution_count": null,
   "id": "266ae757",
   "metadata": {},
   "outputs": [],
   "source": [
    "dataset = pd.read_csv('Social_Network_Ads.csv')"
   ]
  },
  {
   "cell_type": "markdown",
   "id": "da17ebbd",
   "metadata": {},
   "source": [
    "# Drop missing values\n"
   ]
  },
  {
   "cell_type": "code",
   "execution_count": null,
   "id": "8247e094",
   "metadata": {},
   "outputs": [],
   "source": [
    "#"
   ]
  },
  {
   "cell_type": "code",
   "execution_count": null,
   "id": "14c02a3d",
   "metadata": {},
   "outputs": [],
   "source": [
    "#"
   ]
  },
  {
   "cell_type": "code",
   "execution_count": null,
   "id": "2b59f27d",
   "metadata": {},
   "outputs": [],
   "source": [
    "#"
   ]
  },
  {
   "cell_type": "markdown",
   "id": "ba2ed05b",
   "metadata": {},
   "source": [
    "# Check for duplicates and drop them\n"
   ]
  },
  {
   "cell_type": "code",
   "execution_count": null,
   "id": "1792a3dd",
   "metadata": {},
   "outputs": [],
   "source": [
    "dataset = \n"
   ]
  },
  {
   "cell_type": "markdown",
   "id": "6658b63f",
   "metadata": {},
   "source": [
    "# Check the dataset\n"
   ]
  },
  {
   "cell_type": "code",
   "execution_count": null,
   "id": "90d9211c",
   "metadata": {},
   "outputs": [],
   "source": [
    "print(dataset.head())\n",
    "print(dataset.info())"
   ]
  },
  {
   "cell_type": "markdown",
   "id": "a528b8fc",
   "metadata": {},
   "source": [
    "# EDA: Descriptive Statistics\n"
   ]
  },
  {
   "cell_type": "code",
   "execution_count": null,
   "id": "96bc4429",
   "metadata": {},
   "outputs": [],
   "source": [
    "#"
   ]
  },
  {
   "cell_type": "markdown",
   "id": "2d17eb20",
   "metadata": {},
   "source": [
    "# EDA: Visualize Age and Estimated Salary distributions\n"
   ]
  },
  {
   "cell_type": "code",
   "execution_count": null,
   "id": "2389e65e",
   "metadata": {},
   "outputs": [],
   "source": [
    "#sns.distplot()\n",
    "plt.show()\n",
    "\n",
    "#sns.distplot()\n",
    "plt.show()\n"
   ]
  },
  {
   "cell_type": "markdown",
   "id": "44ad9a6b",
   "metadata": {},
   "source": [
    "# EDA: Visualize the count of Purchased\n"
   ]
  },
  {
   "cell_type": "code",
   "execution_count": null,
   "id": "0404a841",
   "metadata": {},
   "outputs": [],
   "source": [
    "sns.countplot()\n",
    "plt.show()"
   ]
  },
  {
   "cell_type": "markdown",
   "id": "843a8587",
   "metadata": {},
   "source": [
    "# Define X by selecting 'Age' and 'EstimatedSalary' columns"
   ]
  },
  {
   "cell_type": "code",
   "execution_count": null,
   "id": "5d335064",
   "metadata": {},
   "outputs": [],
   "source": [
    "X = "
   ]
  },
  {
   "cell_type": "markdown",
   "id": "30047bab",
   "metadata": {},
   "source": [
    "# Define y by selecting the 'Purchased' column"
   ]
  },
  {
   "cell_type": "code",
   "execution_count": null,
   "id": "4a5a7e70",
   "metadata": {},
   "outputs": [],
   "source": [
    "y = "
   ]
  },
  {
   "cell_type": "markdown",
   "id": "c5f213bd",
   "metadata": {},
   "source": [
    "# Split the dataset into training set and test set"
   ]
  },
  {
   "cell_type": "code",
   "execution_count": null,
   "id": "5df2274c",
   "metadata": {},
   "outputs": [],
   "source": [
    "X_train, X_test, y_train, y_test = "
   ]
  },
  {
   "cell_type": "markdown",
   "id": "f2e2aea2",
   "metadata": {},
   "source": [
    "# Scaling the features"
   ]
  },
  {
   "cell_type": "code",
   "execution_count": null,
   "id": "651930db",
   "metadata": {},
   "outputs": [],
   "source": [
    "scaler = StandardScaler()\n",
    "X_train = \n",
    "X_test = \n"
   ]
  },
  {
   "cell_type": "markdown",
   "id": "8caf968d",
   "metadata": {},
   "source": [
    "# Train the logistic regression model\n"
   ]
  },
  {
   "cell_type": "code",
   "execution_count": null,
   "id": "41226943",
   "metadata": {},
   "outputs": [],
   "source": [
    "logreg = \n",
    "##"
   ]
  },
  {
   "cell_type": "markdown",
   "id": "61e59fc8",
   "metadata": {},
   "source": [
    "# Make predictions on the test set"
   ]
  },
  {
   "cell_type": "code",
   "execution_count": null,
   "id": "18bd2f13",
   "metadata": {},
   "outputs": [],
   "source": [
    "y_pred = "
   ]
  },
  {
   "cell_type": "markdown",
   "id": "5bb29e9b",
   "metadata": {},
   "source": [
    "# Print the confusion matrix and classification report"
   ]
  },
  {
   "cell_type": "code",
   "execution_count": null,
   "id": "4e7ea2cb",
   "metadata": {},
   "outputs": [],
   "source": [
    "print(confusion_matrix(y_test, y_pred))\n",
    "print(classification_report(y_test,y_pred))"
   ]
  },
  {
   "cell_type": "markdown",
   "id": "69c11a57",
   "metadata": {},
   "source": [
    "## Challenge \n",
    "\n",
    "search and plot the predections and share it with us under the tweet."
   ]
  },
  {
   "cell_type": "code",
   "execution_count": null,
   "id": "69b8ff4b",
   "metadata": {},
   "outputs": [],
   "source": []
  }
 ],
 "metadata": {
  "kernelspec": {
   "display_name": "Python 3 (ipykernel)",
   "language": "python",
   "name": "python3"
  },
  "language_info": {
   "codemirror_mode": {
    "name": "ipython",
    "version": 3
   },
   "file_extension": ".py",
   "mimetype": "text/x-python",
   "name": "python",
   "nbconvert_exporter": "python",
   "pygments_lexer": "ipython3",
   "version": "3.11.3"
  }
 },
 "nbformat": 4,
 "nbformat_minor": 5
}
